{
 "cells": [
  {
   "cell_type": "code",
   "execution_count": 20,
   "metadata": {},
   "outputs": [],
   "source": [
    "import maze_utils.MM_Maze_Utils as mm\n",
    "\n",
    "maze = mm.NewMaze()"
   ]
  },
  {
   "cell_type": "code",
   "execution_count": 26,
   "metadata": {},
   "outputs": [
    {
     "data": {
      "text/plain": [
       "False"
      ]
     },
     "execution_count": 26,
     "metadata": {},
     "output_type": "execute_result"
    }
   ],
   "source": [
    "(-1,7) in maze.ce.keys()"
   ]
  },
  {
   "cell_type": "code",
   "execution_count": 52,
   "metadata": {},
   "outputs": [],
   "source": [
    "points = [0,4,5,6,8]"
   ]
  },
  {
   "cell_type": "code",
   "execution_count": 54,
   "metadata": {},
   "outputs": [],
   "source": [
    "points_copy = points.copy()\n",
    "offset = 0\n",
    "for i, (x,y) in enumerate(zip(points[1:], points)):\n",
    "    path = mm.ConnectPath(y, x, maze)\n",
    "    if len(path)>2:\n",
    "        coords = []\n",
    "        for idx in path[1:-1]:\n",
    "            coords.append((maze.xc[idx], maze.yc[idx]))\n",
    "        points_copy[i+1+offset:i+1+offset] = coords\n",
    "        offset += len(coords)"
   ]
  },
  {
   "cell_type": "code",
   "execution_count": 55,
   "metadata": {},
   "outputs": [
    {
     "data": {
      "text/plain": [
       "[0, (1, 7), (2, 7), (3, 7), 4, 5, 6, (7, 7), 8]"
      ]
     },
     "execution_count": 55,
     "metadata": {},
     "output_type": "execute_result"
    }
   ],
   "source": [
    "points_copy"
   ]
  },
  {
   "cell_type": "code",
   "execution_count": 49,
   "metadata": {},
   "outputs": [
    {
     "data": {
      "text/plain": [
       "0"
      ]
     },
     "execution_count": 49,
     "metadata": {},
     "output_type": "execute_result"
    }
   ],
   "source": [
    "maze.xc[0]"
   ]
  },
  {
   "cell_type": "code",
   "execution_count": 50,
   "metadata": {},
   "outputs": [
    {
     "data": {
      "text/plain": [
       "7"
      ]
     },
     "execution_count": 50,
     "metadata": {},
     "output_type": "execute_result"
    }
   ],
   "source": [
    "maze.yc[0]"
   ]
  },
  {
   "cell_type": "code",
   "execution_count": 45,
   "metadata": {},
   "outputs": [],
   "source": [
    "test[3:3] = test1[1:-1]"
   ]
  },
  {
   "cell_type": "code",
   "execution_count": 46,
   "metadata": {},
   "outputs": [
    {
     "data": {
      "text/plain": [
       "[0, 1, 2, 10, 11, 3, 4]"
      ]
     },
     "execution_count": 46,
     "metadata": {},
     "output_type": "execute_result"
    }
   ],
   "source": [
    "test"
   ]
  },
  {
   "cell_type": "code",
   "execution_count": 24,
   "metadata": {},
   "outputs": [
    {
     "data": {
      "text/plain": [
       "[0,\n",
       " 1,\n",
       " 2,\n",
       " 3,\n",
       " 4,\n",
       " 5,\n",
       " 6,\n",
       " 7,\n",
       " 12,\n",
       " 13,\n",
       " 14,\n",
       " 15,\n",
       " 24,\n",
       " 25,\n",
       " 26,\n",
       " 27,\n",
       " 40,\n",
       " 41,\n",
       " 64,\n",
       " 65,\n",
       " 96,\n",
       " 144]"
      ]
     },
     "execution_count": 24,
     "metadata": {},
     "output_type": "execute_result"
    }
   ],
   "source": [
    "mm.ConnectPath(maze.ce[(0,7)], maze.ce[(0,7)], maze)"
   ]
  },
  {
   "cell_type": "code",
   "execution_count": 23,
   "metadata": {},
   "outputs": [
    {
     "data": {
      "text/plain": [
       "<AxesSubplot:>"
      ]
     },
     "execution_count": 23,
     "metadata": {},
     "output_type": "execute_result"
    },
    {
     "data": {
      "image/png": "[encoded data removed]",
      "text/plain": [
       "<Figure size 432x432 with 1 Axes>"
      ]
     },
     "metadata": {
      "needs_background": "light"
     },
     "output_type": "display_data"
    }
   ],
   "source": [
    "mm.PlotMazeCells(maze)"
   ]
  },
  {
   "cell_type": "code",
   "execution_count": null,
   "metadata": {},
   "outputs": [],
   "source": [
    "# out right, out right: left turn\n",
    "# out left, out left: right turn\n",
    "# out right, out left: left turn\n",
    "# out left, out right: right turn\n",
    "\n",
    "# in right, out right: backwards\n",
    "# in left, out left: backwards\n",
    "# out right, in right: backwards\n",
    "# out left, in left: backwards\n",
    "\n",
    "# in right, in right: right\n",
    "# in left, in left: left\n",
    "# in right, in left: left\n",
    "# in left, in right: right\n",
    "\n",
    "# in right, out left: not possible\n",
    "# out left, in right: straight\n",
    "# in left, out right: not possible\n",
    "# out right, in left: straight\n",
    "\n",
    "# Step 1: convert coords to indices, convert to indices to nodes\n",
    "# Step 2: convert nodes to steps\n",
    "# Step 3: convert steps to left/right/straight/back"
   ]
  },
  {
   "cell_type": "code",
   "execution_count": 68,
   "metadata": {},
   "outputs": [
    {
     "data": {
      "text/plain": [
       "[[0, 1, 2, 3, 4, 5, 6, 7],\n",
       " [8, 9, 10, 11],\n",
       " [12, 13, 14, 15],\n",
       " [16, 17, 18, 19],\n",
       " [20, 21, 22, 23],\n",
       " [24, 25, 26, 27],\n",
       " [28, 29, 30, 31],\n",
       " [32, 33],\n",
       " [34, 35],\n",
       " [36, 37],\n",
       " [38, 39],\n",
       " [40, 41],\n",
       " [42, 43],\n",
       " [44, 45],\n",
       " [46, 47],\n",
       " [48, 49],\n",
       " [50, 51],\n",
       " [52, 53],\n",
       " [54, 55],\n",
       " [56, 57],\n",
       " [58, 59],\n",
       " [60, 61],\n",
       " [62, 63],\n",
       " [64, 65],\n",
       " [66, 67],\n",
       " [68, 69],\n",
       " [70, 71],\n",
       " [72, 73],\n",
       " [74, 75],\n",
       " [76, 77],\n",
       " [78, 79],\n",
       " [80],\n",
       " [81],\n",
       " [82],\n",
       " [83],\n",
       " [84],\n",
       " [85],\n",
       " [86],\n",
       " [87],\n",
       " [88],\n",
       " [89],\n",
       " [90],\n",
       " [91],\n",
       " [92],\n",
       " [93],\n",
       " [94],\n",
       " [95],\n",
       " [96],\n",
       " [97],\n",
       " [98],\n",
       " [99],\n",
       " [100],\n",
       " [101],\n",
       " [102],\n",
       " [103],\n",
       " [104],\n",
       " [105],\n",
       " [106],\n",
       " [107],\n",
       " [108],\n",
       " [109],\n",
       " [110],\n",
       " [111],\n",
       " [112],\n",
       " [113],\n",
       " [114],\n",
       " [115],\n",
       " [116],\n",
       " [117],\n",
       " [118],\n",
       " [119],\n",
       " [120],\n",
       " [121],\n",
       " [122],\n",
       " [123],\n",
       " [124],\n",
       " [125],\n",
       " [126],\n",
       " [127],\n",
       " [128],\n",
       " [129],\n",
       " [130],\n",
       " [131],\n",
       " [132],\n",
       " [133],\n",
       " [134],\n",
       " [135],\n",
       " [136],\n",
       " [137],\n",
       " [138],\n",
       " [139],\n",
       " [140],\n",
       " [141],\n",
       " [142],\n",
       " [143],\n",
       " [144],\n",
       " [145],\n",
       " [146],\n",
       " [147],\n",
       " [148],\n",
       " [149],\n",
       " [150],\n",
       " [151],\n",
       " [152],\n",
       " [153],\n",
       " [154],\n",
       " [155],\n",
       " [156],\n",
       " [157],\n",
       " [158],\n",
       " [159],\n",
       " [160],\n",
       " [161],\n",
       " [162],\n",
       " [163],\n",
       " [164],\n",
       " [165],\n",
       " [166],\n",
       " [167],\n",
       " [168],\n",
       " [169],\n",
       " [170],\n",
       " [171],\n",
       " [172],\n",
       " [173],\n",
       " [174],\n",
       " [175]]"
      ]
     },
     "execution_count": 68,
     "metadata": {},
     "output_type": "execute_result"
    }
   ],
   "source": [
    "maze.ru"
   ]
  },
  {
   "cell_type": "code",
   "execution_count": 56,
   "metadata": {},
   "outputs": [
    {
     "data": {
      "text/plain": [
       "<AxesSubplot:>"
      ]
     },
     "execution_count": 56,
     "metadata": {},
     "output_type": "execute_result"
    },
    {
     "data": {
      "image/png": "[encoded data removed]",
      "text/plain": [
       "<Figure size 432x432 with 1 Axes>"
      ]
     },
     "metadata": {
      "needs_background": "light"
     },
     "output_type": "display_data"
    }
   ],
   "source": [
    "mm.PlotMazeNodes(maze)\n"
   ]
  },
  {
   "cell_type": "code",
   "execution_count": 75,
   "metadata": {},
   "outputs": [
    {
     "data": {
      "text/plain": [
       "3"
      ]
     },
     "execution_count": 75,
     "metadata": {},
     "output_type": "execute_result"
    }
   ],
   "source": [
    "#mm.StepType(124,61,maze)\n",
    "\n",
    "\n",
    "maze.st[25,12]\n",
    "\n"
   ]
  },
  {
   "cell_type": "code",
   "execution_count": 19,
   "metadata": {},
   "outputs": [
    {
     "data": {
      "image/png": "[encoded data removed]",
      "text/plain": [
       "<Figure size 432x432 with 1 Axes>"
      ]
     },
     "metadata": {
      "needs_background": "light"
     },
     "output_type": "display_data"
    }
   ],
   "source": [
    "mm.PlotMazeCenter(maze)"
   ]
  }
 ],
 "metadata": {
  "kernelspec": {
   "display_name": "Python 3",
   "language": "python",
   "name": "python3"
  },
  "language_info": {
   "codemirror_mode": {
    "name": "ipython",
    "version": 3
   },
   "file_extension": ".py",
   "mimetype": "text/x-python",
   "name": "python",
   "nbconvert_exporter": "python",
   "pygments_lexer": "ipython3",
   "version": "3.8.5"
  },
  "orig_nbformat": 4
 },
 "nbformat": 4,
 "nbformat_minor": 2
}
